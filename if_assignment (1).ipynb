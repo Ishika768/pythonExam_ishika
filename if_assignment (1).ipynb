{
 "cells": [
  {
   "cell_type": "code",
   "execution_count": 1,
   "id": "a8bbb5fe",
   "metadata": {},
   "outputs": [
    {
     "name": "stdout",
     "output_type": "stream",
     "text": [
      "Enter the number:6\n",
      "Even\n"
     ]
    }
   ],
   "source": [
    "#1.Write a program that takes a number as input and prints out whether it is an even or odd number.\n",
    "n=int(input(\"Enter the number:\"))\n",
    "if n%2==0:\n",
    "    print(\"Even\")\n",
    "else:\n",
    "    print(\"Odd\")\n"
   ]
  },
  {
   "cell_type": "code",
   "execution_count": 11,
   "id": "c2b5d531",
   "metadata": {},
   "outputs": [
    {
     "name": "stdout",
     "output_type": "stream",
     "text": [
      "Enter the year:1900\n",
      "Not Leap year\n"
     ]
    }
   ],
   "source": [
    "#2.Write a program that takes a year as input and prints out whether it is a leap year or not.\n",
    "year=int(input(\"Enter the year:\"))\n",
    "if year%400==0 or (year%4==0 and year%100!=0):\n",
    "    print(\"Leap year\")\n",
    "else:\n",
    "    print(\"Not Leap year\")"
   ]
  },
  {
   "cell_type": "code",
   "execution_count": 14,
   "id": "08329739",
   "metadata": {},
   "outputs": [
    {
     "name": "stdout",
     "output_type": "stream",
     "text": [
      "Enter the string:madam\n",
      "palindrome\n"
     ]
    }
   ],
   "source": [
    "#3.Write a program that takes a string as input and checks whether it is a palindrome or not.\n",
    "s=input(\"Enter the string:\")\n",
    "if s==s[::-1]:\n",
    "    print(\"palindrome\")\n",
    "else:\n",
    "    print(\"Not palindrome\")"
   ]
  },
  {
   "cell_type": "code",
   "execution_count": 18,
   "id": "4c097840",
   "metadata": {},
   "outputs": [
    {
     "name": "stdout",
     "output_type": "stream",
     "text": [
      "Enter n1,n2,n3:5,6,7\n",
      "7  is largest\n"
     ]
    }
   ],
   "source": [
    "#4.Write a program that takes three numbers as input and prints out the largest one.\n",
    "n1,n2,n3=list(map(int,input(\"Enter n1,n2,n3:\").split(\",\")))\n",
    "if n1>n2 and n1>n3:\n",
    "    print(n1,\" is largest\")\n",
    "elif n2>n1 and n2>n3:\n",
    "    print(n2,\" is largest\")\n",
    "else:\n",
    "    print(n3,\" is largest\")"
   ]
  },
  {
   "cell_type": "code",
   "execution_count": 1,
   "id": "ba327826",
   "metadata": {},
   "outputs": [
    {
     "name": "stdout",
     "output_type": "stream",
     "text": [
      "Enter the sentence:hello world\n",
      "2\n"
     ]
    }
   ],
   "source": [
    "#5.Write a program that takes a sentence as input and counts the number of words in it\n",
    "s=input(\"Enter the sentence:\")\n",
    "word_count=0\n",
    "words=s.split(\" \")\n",
    "for word in words:\n",
    "    if word!=\" \":\n",
    "        word_count+=1\n",
    "print(word_count)\n",
    "\n"
   ]
  },
  {
   "cell_type": "code",
   "execution_count": 24,
   "id": "52c81e06",
   "metadata": {},
   "outputs": [
    {
     "name": "stdout",
     "output_type": "stream",
     "text": [
      "Enter the number:11 22 33 44\n",
      "110\n"
     ]
    }
   ],
   "source": [
    "#6.Write a program that takes a list of numbers as input and prints out the sum of all the numbers.\n",
    "numbers=list(input(\"Enter the number:\").split(\" \"))\n",
    "sum=0\n",
    "for num in numbers:\n",
    "    sum+=int(num)\n",
    "print(sum)    "
   ]
  },
  {
   "cell_type": "code",
   "execution_count": 27,
   "id": "d70fd5f6",
   "metadata": {},
   "outputs": [
    {
     "name": "stdout",
     "output_type": "stream",
     "text": [
      "Enter the string:reshu renu vivi\n",
      "reshu\n"
     ]
    }
   ],
   "source": [
    "#7.Write a program that takes a list of strings as input and prints out the longest string.\n",
    "s=input(\"Enter the string:\").split(\" \")\n",
    "longest=s[0]\n",
    "for word in s:\n",
    "    if len(word)>len(longest):\n",
    "        longest=word\n",
    "print(longest)"
   ]
  },
  {
   "cell_type": "code",
   "execution_count": 32,
   "id": "99ddf7b7",
   "metadata": {},
   "outputs": [
    {
     "name": "stdout",
     "output_type": "stream",
     "text": [
      "3 4 5 6 "
     ]
    }
   ],
   "source": [
    "#8.Write a program that takes two lists of numbers as input and prints out the common elements between the two lists.\n",
    "l1=[1,2,3,4,5,6]\n",
    "l2=[3,4,5,6,7,8]\n",
    "for i in l1:\n",
    "    for j in l2:\n",
    "        if i==j:\n",
    "            print(i,end=\" \")\n",
    "            break\n",
    "        else:\n",
    "            pass"
   ]
  },
  {
   "cell_type": "code",
   "execution_count": 34,
   "id": "51a934a8",
   "metadata": {},
   "outputs": [
    {
     "name": "stdout",
     "output_type": "stream",
     "text": [
      "Enter the number:11 22 99 33 55 22 77 44\n",
      "[11, 22, 22, 33, 44, 55, 77, 99]\n"
     ]
    }
   ],
   "source": [
    "#9.Write a program that takes a list of numbers as input and prints out the numbers in ascending order.\n",
    "numbers=list(map(int,input(\"Enter the number:\").split(\" \")))\n",
    "for i in range(len(numbers)):\n",
    "    for j in range(i+1,len(numbers)):\n",
    "        if numbers[i]>numbers[j]:\n",
    "            numbers[i],numbers[j]=numbers[j],numbers[i]\n",
    "print(numbers)"
   ]
  },
  {
   "cell_type": "code",
   "execution_count": 46,
   "id": "9dd3cfa7",
   "metadata": {},
   "outputs": [
    {
     "name": "stdout",
     "output_type": "stream",
     "text": [
      "Enter the string:reshu renu panno vivi reshu\n",
      "['reshu', 'renu', 'panno', 'vivi']\n"
     ]
    }
   ],
   "source": [
    "#10.Write a program that takes a list of strings as input and removes all duplicates from the list\n",
    "s=input(\"Enter the string:\").split()\n",
    "new_list=[]\n",
    "for word in s:\n",
    "    if word not in new_list:\n",
    "        new_list.append(word)\n",
    "print(new_list)\n",
    "    \n",
    "    "
   ]
  },
  {
   "cell_type": "code",
   "execution_count": 48,
   "id": "1f37018f",
   "metadata": {},
   "outputs": [
    {
     "name": "stdout",
     "output_type": "stream",
     "text": [
      "Enter the string:reshu renu vivi panno sakshi kruns renu\n",
      "['reshu', 'renu', 'vivi', 'panno', 'sakshi', 'kruns']\n"
     ]
    }
   ],
   "source": [
    "#10.Write a program that takes a list of strings as input and removes all duplicates from the list\n",
    "s=input(\"Enter the string:\").split()\n",
    "new_list=[]\n",
    "for word in s:\n",
    "    if word not in new_list:\n",
    "        new_list.append(word)\n",
    "print(new_list)"
   ]
  },
  {
   "cell_type": "code",
   "execution_count": 52,
   "id": "8dea8a37",
   "metadata": {},
   "outputs": [
    {
     "name": "stdout",
     "output_type": "stream",
     "text": [
      "Enter a string:programming\n",
      "Frequency of each character is:\n",
      "Frequency of p is 1\n",
      "Frequency of r is 2\n",
      "Frequency of o is 1\n",
      "Frequency of g is 2\n",
      "Frequency of a is 1\n",
      "Frequency of m is 2\n",
      "Frequency of i is 1\n",
      "Frequency of n is 1\n"
     ]
    }
   ],
   "source": [
    "#11.Write a program that takes a string as input and prints out the frequency of each character in the string.\n",
    "s=input(\"Enter a string:\")\n",
    "d={}\n",
    "for char in s:\n",
    "    if char in d:\n",
    "        d[char]+=1\n",
    "    else:\n",
    "        d[char]=1\n",
    "print(\"Frequency of each character is:\")\n",
    "for k in d:\n",
    "    print(\"Frequency of\",k,\"is\",d[k])\n",
    "    "
   ]
  },
  {
   "cell_type": "code",
   "execution_count": null,
   "id": "e1935bdf",
   "metadata": {},
   "outputs": [],
   "source": [
    "#12.Write a program that takes a string as input and checks whether it is a pangram or not.\n"
   ]
  },
  {
   "cell_type": "code",
   "execution_count": 56,
   "id": "1de04f79",
   "metadata": {},
   "outputs": [
    {
     "name": "stdout",
     "output_type": "stream",
     "text": [
      "Enter the number:1 3 5 7 9 11 13 15 17\n",
      "9\n"
     ]
    }
   ],
   "source": [
    "#13.Write a program that takes a list of numbers as input and prints out the median value.\n",
    "numbers=list(map(int,input(\"Enter the number:\").split(\" \")))\n",
    "sorted_num=sorted(numbers)\n",
    "n=len(numbers)\n",
    "if n%2==0:\n",
    "    med1=numbers[n//2]\n",
    "    med2=numbers[n//2-1]\n",
    "    median=(med1+med2)/2\n",
    "else:\n",
    "    median=numbers[n//2]\n",
    "print(median)"
   ]
  },
  {
   "cell_type": "code",
   "execution_count": 62,
   "id": "bd01cc0a",
   "metadata": {},
   "outputs": [
    {
     "name": "stdout",
     "output_type": "stream",
     "text": [
      "Enter the word1:silent\n",
      "Enter the word2:listen\n",
      "The words are anagrams.\n"
     ]
    }
   ],
   "source": [
    "#14.Write a program that takes two strings as input and checks whether they are anagrams or not.\n",
    "word1=input(\"Enter the word1:\")\n",
    "word2=input(\"Enter the word2:\")\n",
    "sorted_word1=sorted(word1)\n",
    "sorted_word2=sorted(word2)\n",
    "is_anagram=sorted_word1==sorted_word2\n",
    "\n",
    "if is_anagram:\n",
    "    print(\"The words are anagrams.\")\n",
    "else:\n",
    "    print(\"The words are anagrams.\")"
   ]
  },
  {
   "cell_type": "code",
   "execution_count": null,
   "id": "aa649261",
   "metadata": {},
   "outputs": [],
   "source": [
    "#15.Write a program that takes a list of numbers as input and finds the second largest number in the list.\n"
   ]
  },
  {
   "cell_type": "code",
   "execution_count": 65,
   "id": "d63d75d1",
   "metadata": {},
   "outputs": [
    {
     "name": "stdout",
     "output_type": "stream",
     "text": [
      "Enter the numbers:11 22 33 44 55 66\n",
      "132\n"
     ]
    }
   ],
   "source": [
    "#16.Write a program that takes a list of numbers as input and finds the sum of all the even numbers in the list.\n",
    "numbers=list(map(int,input(\"Enter the numbers:\").split(\" \")))\n",
    "sum=0\n",
    "for num in numbers:\n",
    "    if num%2==0:\n",
    "        sum+=num\n",
    "print(sum)"
   ]
  },
  {
   "cell_type": "code",
   "execution_count": 67,
   "id": "0c2a4221",
   "metadata": {},
   "outputs": [
    {
     "name": "stdout",
     "output_type": "stream",
     "text": [
      "Enter the string:reverse string as given\n",
      "esrever gnirts sa nevig "
     ]
    }
   ],
   "source": [
    "#17.Write a program that takes a string as input and prints out the words in reverse order.\n",
    "s=input(\"Enter the string:\").split()\n",
    "for word in s:\n",
    "    print(word[::-1],end=\" \") "
   ]
  },
  {
   "cell_type": "code",
   "execution_count": 68,
   "id": "692aab26",
   "metadata": {},
   "outputs": [
    {
     "name": "stdout",
     "output_type": "stream",
     "text": [
      "Enter the numbers:11 44 22 88 99 55 33\n",
      "[99, 88, 55, 44, 33, 22, 11]\n"
     ]
    }
   ],
   "source": [
    "#18.Write a program that takes a list of numbers as input and prints out the numbers in descending order.\n",
    "numbers=list(map(int,input(\"Enter the numbers:\").split(\" \")))\n",
    "for i in range(len(numbers)):\n",
    "    for j in range(i+1,len(numbers)):\n",
    "        if numbers[i]<numbers[j]:\n",
    "            numbers[i],numbers[j]=numbers[j],numbers[i]\n",
    "print(numbers)\n",
    "    "
   ]
  },
  {
   "cell_type": "code",
   "execution_count": 3,
   "id": "50cb7d61",
   "metadata": {},
   "outputs": [
    {
     "name": "stdout",
     "output_type": "stream",
     "text": [
      "Enter the string:xyz abc mno pqr lmn\n",
      "['abc', 'lmn', 'mno', 'pqr', 'xyz']\n"
     ]
    }
   ],
   "source": [
    "#19.Write a program that takes a list of strings as input and prints out the strings in alphabetical order.\n",
    "s=input(\"Enter the string:\").split()\n",
    "for i in range(len(s)):\n",
    "    for j in range(i+1,len(s)):\n",
    "        if s[i]>s[j]:\n",
    "            s[i],s[j]=s[j],s[i]\n",
    "print(s)   "
   ]
  },
  {
   "cell_type": "code",
   "execution_count": null,
   "id": "afef14c4",
   "metadata": {},
   "outputs": [],
   "source": [
    "#20.Write a program that takes a list of numbers as input and checks whether it is a Fibonacci sequence or not.\n",
    "\n"
   ]
  },
  {
   "cell_type": "code",
   "execution_count": null,
   "id": "6ce2fc4b",
   "metadata": {},
   "outputs": [],
   "source": [
    "#21.Write a program that takes a string as input and prints out the longest palindrome in the string.\n"
   ]
  },
  {
   "cell_type": "code",
   "execution_count": 10,
   "id": "74bf5dc5",
   "metadata": {},
   "outputs": [
    {
     "name": "stdout",
     "output_type": "stream",
     "text": [
      "Enter the string:res ghyt aswa kola gtaw\n",
      "['res', 'ghyt']\n"
     ]
    }
   ],
   "source": [
    "#22.Write a program that takes a list of strings as input and removes all strings that contain the letter \"a\".\n",
    "s=input(\"Enter the string:\").split()\n",
    "new_list=[]\n",
    "for word in s:\n",
    "    if 'a' not in word:\n",
    "        new_list.append(word)\n",
    "print(new_list)"
   ]
  },
  {
   "cell_type": "code",
   "execution_count": 12,
   "id": "99e2f0c7",
   "metadata": {},
   "outputs": [
    {
     "name": "stdout",
     "output_type": "stream",
     "text": [
      "Enter the numbers:22 44 66 99 33 44 11 55 \n",
      "duplicate values= [44]\n"
     ]
    }
   ],
   "source": [
    "#23.Write a program that takes a list of numbers as input and checks whether it contains any duplicates.\n",
    "data_list=list(map(int,input(\"Enter the numbers:\").split()))\n",
    "dup=[]\n",
    "unique=[]\n",
    "\n",
    "for num in data_list:\n",
    "    if num not in unique:\n",
    "        unique.append(num)\n",
    "    else:\n",
    "        dup.append(num)\n",
    "print(\"duplicate values=\",dup)"
   ]
  },
  {
   "cell_type": "code",
   "execution_count": 15,
   "id": "1d92104f",
   "metadata": {},
   "outputs": [
    {
     "name": "stdout",
     "output_type": "stream",
     "text": [
      "Enter strings:mom dad madam lion tiger\n",
      "mom is palindromes\n",
      "dad is palindromes\n",
      "madam is palindromes\n"
     ]
    }
   ],
   "source": [
    "#24.Write a program that takes a list of strings as input and prints out the strings that are palindromes.\n",
    "s=input(\"Enter strings:\").split()\n",
    "for word in s:\n",
    "    if word==word[::-1]:\n",
    "        print(word,\"is palindromes\")"
   ]
  },
  {
   "cell_type": "code",
   "execution_count": null,
   "id": "90f7e991",
   "metadata": {},
   "outputs": [],
   "source": [
    "#25.Write a program that takes a string as input and prints out the most common word in the string.\n"
   ]
  },
  {
   "cell_type": "code",
   "execution_count": 17,
   "id": "6ea56757",
   "metadata": {},
   "outputs": [
    {
     "name": "stdout",
     "output_type": "stream",
     "text": [
      "Enter the numbers:1 2 3 4 5\n",
      "120\n"
     ]
    }
   ],
   "source": [
    "#26.Write a program that takes a list of numbers as input and finds the product of all the numbers.\n",
    "numbers=list(map(int,input(\"Enter the numbers:\").split()))\n",
    "product=1\n",
    "for num in numbers:\n",
    "    product*=num\n",
    "print(product)"
   ]
  },
  {
   "cell_type": "code",
   "execution_count": 22,
   "id": "a0bf9f71",
   "metadata": {},
   "outputs": [
    {
     "name": "stdout",
     "output_type": "stream",
     "text": [
      "Enter the string:qer jhg uyt nbvc kllllllllp\n",
      "qerjhguytnbvckllllllllp\n"
     ]
    }
   ],
   "source": [
    "#27.Write a program that takes a string as input and removes all the vowels from the string.\n",
    "\n",
    "s=input(\"Enter the string:\").split()\n",
    "new_string=''\n",
    "vowels='aeiouAEIOU'\n",
    "for char in s:\n",
    "    if char not in new_list:\n",
    "        new_string+=char\n",
    "print(new_string)"
   ]
  },
  {
   "cell_type": "code",
   "execution_count": 6,
   "id": "9b06441f",
   "metadata": {},
   "outputs": [],
   "source": [
    "#28.Write program that takes a list of numbers as input and checks whether it is a prime number sequence or not\n"
   ]
  },
  {
   "cell_type": "code",
   "execution_count": 10,
   "id": "80ddca16",
   "metadata": {},
   "outputs": [
    {
     "name": "stdout",
     "output_type": "stream",
     "text": [
      "Enter strings:rtyu vbnm hjkl\n",
      "All strings are of the same length.\n"
     ]
    }
   ],
   "source": [
    "#29.Write a program that takes a list of strings as input and checks whether all the strings are of the same length\n",
    "s=input(\"Enter strings:\").split()\n",
    "is_same_length=True\n",
    "for word in s:\n",
    "    if len(word)!=length:\n",
    "        is_same_length=False\n",
    "        break\n",
    "if is_same_length:\n",
    "    print(\"All strings are of the same length.\")\n",
    "else:\n",
    "    print(\"Not all strings are of the same length.\")"
   ]
  },
  {
   "cell_type": "code",
   "execution_count": 1,
   "id": "a9e89ba4",
   "metadata": {},
   "outputs": [],
   "source": [
    "#30.Write a program that takes a string as input and checks whether it is a pangram or not,using only lowercase letters.\n"
   ]
  },
  {
   "cell_type": "code",
   "execution_count": 2,
   "id": "285b745f",
   "metadata": {},
   "outputs": [
    {
     "name": "stdout",
     "output_type": "stream",
     "text": [
      "Enter the number:11 22 88 44 66 33 66\n",
      "[11, 22, 88, 44, 66, 33, 66]\n"
     ]
    },
    {
     "ename": "NameError",
     "evalue": "name 'sort' is not defined",
     "output_type": "error",
     "traceback": [
      "\u001b[1;31m---------------------------------------------------------------------------\u001b[0m",
      "\u001b[1;31mNameError\u001b[0m                                 Traceback (most recent call last)",
      "\u001b[1;32m~\\AppData\\Local\\Temp\\ipykernel_20128\\853315954.py\u001b[0m in \u001b[0;36m<module>\u001b[1;34m\u001b[0m\n\u001b[0;32m      3\u001b[0m \u001b[0ml2\u001b[0m\u001b[1;33m=\u001b[0m\u001b[0ml1\u001b[0m\u001b[1;33m[\u001b[0m\u001b[1;33m:\u001b[0m\u001b[1;33m]\u001b[0m\u001b[1;33m\u001b[0m\u001b[1;33m\u001b[0m\u001b[0m\n\u001b[0;32m      4\u001b[0m \u001b[0mprint\u001b[0m\u001b[1;33m(\u001b[0m\u001b[0ml2\u001b[0m\u001b[1;33m)\u001b[0m\u001b[1;33m\u001b[0m\u001b[1;33m\u001b[0m\u001b[0m\n\u001b[1;32m----> 5\u001b[1;33m \u001b[0ml1\u001b[0m\u001b[1;33m:\u001b[0m\u001b[0msort\u001b[0m\u001b[1;33m(\u001b[0m\u001b[1;33m)\u001b[0m\u001b[1;33m\u001b[0m\u001b[1;33m\u001b[0m\u001b[0m\n\u001b[0m\u001b[0;32m      6\u001b[0m \u001b[1;32mif\u001b[0m \u001b[0ml2\u001b[0m\u001b[1;33m==\u001b[0m\u001b[0ml1\u001b[0m\u001b[1;33m:\u001b[0m\u001b[1;33m\u001b[0m\u001b[1;33m\u001b[0m\u001b[0m\n\u001b[0;32m      7\u001b[0m     \u001b[0mprint\u001b[0m\u001b[1;33m(\u001b[0m\u001b[1;34m\"The list is in ascending order\"\u001b[0m\u001b[1;33m)\u001b[0m\u001b[1;33m\u001b[0m\u001b[1;33m\u001b[0m\u001b[0m\n",
      "\u001b[1;31mNameError\u001b[0m: name 'sort' is not defined"
     ]
    }
   ],
   "source": [
    "#31.Write a program that takes a list of numbers as input and checks whether the list is sorted in ascending order.\n",
    "l1=list(map(int,input(\"Enter the number:\").split()))\n",
    "l2=l1[:]\n",
    "print(l2)\n",
    "l1:sort()\n",
    "if l2==l1:\n",
    "    print(\"The list is in ascending order\")\n",
    "else:\n",
    "    print(\"The list is in descending order\")"
   ]
  },
  {
   "cell_type": "code",
   "execution_count": null,
   "id": "f49cb6c4",
   "metadata": {},
   "outputs": [],
   "source": [
    "#32.Write a program that takes a string as input and prints out the number of uppercase letters and lowercase letters in the string.\n"
   ]
  },
  {
   "cell_type": "code",
   "execution_count": null,
   "id": "149cb836",
   "metadata": {},
   "outputs": [],
   "source": []
  },
  {
   "cell_type": "code",
   "execution_count": null,
   "id": "342ab913",
   "metadata": {},
   "outputs": [],
   "source": []
  },
  {
   "cell_type": "code",
   "execution_count": null,
   "id": "483e13e2",
   "metadata": {},
   "outputs": [],
   "source": []
  },
  {
   "cell_type": "code",
   "execution_count": null,
   "id": "37d0b1e2",
   "metadata": {},
   "outputs": [],
   "source": []
  },
  {
   "cell_type": "code",
   "execution_count": null,
   "id": "452e5e69",
   "metadata": {},
   "outputs": [],
   "source": []
  },
  {
   "cell_type": "code",
   "execution_count": null,
   "id": "3afbc4b1",
   "metadata": {},
   "outputs": [],
   "source": []
  },
  {
   "cell_type": "code",
   "execution_count": null,
   "id": "528e2d00",
   "metadata": {},
   "outputs": [],
   "source": []
  },
  {
   "cell_type": "code",
   "execution_count": null,
   "id": "f6781faa",
   "metadata": {},
   "outputs": [],
   "source": []
  },
  {
   "cell_type": "code",
   "execution_count": null,
   "id": "feb1890f",
   "metadata": {},
   "outputs": [],
   "source": []
  },
  {
   "cell_type": "code",
   "execution_count": null,
   "id": "45efca1e",
   "metadata": {},
   "outputs": [],
   "source": []
  },
  {
   "cell_type": "code",
   "execution_count": null,
   "id": "4d5df67f",
   "metadata": {},
   "outputs": [],
   "source": []
  },
  {
   "cell_type": "code",
   "execution_count": null,
   "id": "7f585470",
   "metadata": {},
   "outputs": [],
   "source": [
    "[12:18 am, 2/3/2025] Meta AI: Here are the Python programs that solve each of the problems using if statements:\n",
    "\n",
    "1. Prime Number Sequence\n",
    "\n",
    "numbers = list(map(int, input(\"Enter a list of numbers: \").split()))\n",
    "is_prime_sequence = True\n",
    "for num in numbers:\n",
    "    if num < 2:\n",
    "        is_prime_sequence = False\n",
    "        break\n",
    "    for i in range(2, int(num**0.5) + 1):\n",
    "        if num % i == 0:\n",
    "            is_prime_sequence = False\n",
    "            break\n",
    "if is_prime_sequence:\n",
    "    print(\"The list is a prime number sequence.\")\n",
    "else:\n",
    "    print(\"The list is not a prime number sequence.\")\n",
    "\n",
    "\n",
    "\n",
    "\n",
    "\n",
    "\n",
    "\n",
    "4. Sorted List\n",
    "\n",
    "numbers = list(map(int, input(\"Enter a list of numbers: \").split()))\n",
    "is_sorted = True\n",
    "for i in range(len(numbers) - 1):\n",
    "    if numbers[i] > numbers[i + 1]:\n",
    "        is_sorted = False\n",
    "        break\n",
    "if is_sorted:\n",
    "    print(\"The list is sorted in ascending order.\")\n",
    "else:\n",
    "    print(\"The list is not sorted in ascending order.\")\n",
    "\n",
    "\n",
    "5. Uppercase and Lowercase Letters\n",
    "\n",
    "s = input(\"Enter a string: \")\n",
    "uppercase_count = 0\n",
    "lowercase_count = 0\n",
    "for c in s:\n",
    "    if c.isupper():\n",
    "        uppercase_count += 1\n",
    "    elif c.islower():\n",
    "        lowercase_count += 1\n",
    "print(f\"Uppercase letters: {uppercase_count}\")\n",
    "print(f\"Lowercase letters: {lowercase_count}\")\n",
    "\n",
    "\n",
    "6. Difference of Two Lists\n",
    "\n",
    "list1 = list(map(int, input(\"Enter the first list of numbers: \").split()))\n",
    "list2 = list(map(int, input(\"Enter the second list of numbers: \").split()))\n",
    "diff = []\n",
    "for x in list1:\n",
    "    if x not in list2:\n",
    "        diff.append(x)\n",
    "print(\"Difference of the two lists:\", diff)\n",
    "\n",
    "\n",
    "7. Smallest Positive Integer\n",
    "\n",
    "numbers = list(map(int, input(\"Enter a list of numbers: \").split()))\n",
    "i = 1\n",
    "while True:\n",
    "    if i not in numbers:\n",
    "        print(\"Smallest positive integer not in the list:\", i)\n",
    "        break\n",
    "    i += 1\n",
    "\n",
    "\n",
    "8. Words with Vowels\n",
    "\n",
    "s = input(\"Enter a string: \").lower()\n",
    "vowels = \"aeiou\"\n",
    "words = s.split()\n",
    "count = 0\n",
    "for word in words:\n",
    "    if any(c in vowels for c in word):\n",
    "        count += 1\n",
    "print(\"Number of words with vowels:\", count)\n",
    "\n",
    "\n",
    "9. Perfect Squares\n",
    "\n",
    "numbers = list(map(int, input(\"Enter a list of numbers: \").split()))\n",
    "squares = []\n",
    "for x in numbers:\n",
    "    if x**0.5 == int(x**0.5):\n",
    "        squares.append(x)\n",
    "print(\"Perfect squares:\", squares)\n",
    "\n",
    "\n",
    "10. Word Frequency\n",
    "\n",
    "s = input(\"Enter a string: \").lower()\n",
    "words = s.split()\n",
    "freq = {}\n",
    "for word in words:\n",
    "    if word in freq:\n",
    "        freq[word] += 1\n",
    "    else:\n",
    "        freq[word] = 1\n",
    "print(\"Word frequency:\")\n",
    "for word, count in freq.items():\n",
    "    print(f\"{word}: {count}\")\n",
    "\n",
    "\n",
    "11. Uppercase Strings\n",
    "\n",
    "strings = input(\"Enter a list of strings: \").split()\n",
    "uppercase = []\n",
    "for s in strings:\n",
    "    if s.isupper():\n",
    "        uppercase.append(s)\n",
    "print(\"Uppercase strings:\", uppercase)\n",
    "\n",
    "\n",
    "12. Product of All Other Numbers\n",
    "\n",
    "numbers = list(map(int, input(\"Enter a list of numbers: \").split()))\n",
    "product = []\n",
    "for i in range(len(numbers)):\n",
    "    prod = 1\n",
    "    for j in range(len(numbers)):\n",
    "        if i != j:\n",
    "            prod *= numbers[j]\n",
    "    product.append(prod)\n",
    "print(\"Product of all other numbers\n",
    "\n",
    "[12:18 am, 2/3/2025] Meta AI: Here are the Python programs that solve each of the problems using if statements:\n",
    "\n",
    "## 1. Prime Number Sequence\n",
    "\n",
    "numbers = list(map(int, input(\"Enter a list of numbers: \").split()))\n",
    "is_prime_sequence = True\n",
    "for num in numbers:\n",
    "    if num < 2:\n",
    "        is_prime_sequence = False\n",
    "        break\n",
    "    for i in range(2, int(num**0.5) + 1):\n",
    "        if num % i == 0:\n",
    "            is_prime_sequence = False\n",
    "            break\n",
    "if is_prime_sequence:\n",
    "    print(\"The list is a prime number sequence.\")\n",
    "else:\n",
    "    print(\"The list is not a prime number sequence.\")\n",
    "\n",
    "\n",
    "## 2. Same Length Strings\n",
    "\n",
    "strings = input(\"Enter a list of strings: \").split()\n",
    "length = len(strings[0])\n",
    "is_same_length = True\n",
    "for s in strings:\n",
    "    if len(s) != length:\n",
    "        is_same_length = False\n",
    "        break\n",
    "if is_same_length:\n",
    "    print(\"All strings are of the same length.\")\n",
    "else:\n",
    "    print(\"Not all strings are of the same length.\")\n",
    "\n",
    "\n",
    "## 3. Pangram\n",
    "\n",
    "s = input(\"Enter a string: \").lower()\n",
    "is_pangram = True\n",
    "alphabet = \"abcdefghijklmnopqrstuvwxyz\"\n",
    "for char in alphabet:\n",
    "    if char not in s:\n",
    "        is_pangram = False\n",
    "        break\n",
    "if is_pangram:\n",
    "    print(\"The string is a pangram.\")\n",
    "else:\n",
    "    print(\"The string is not a pangram.\")\n",
    "\n",
    "\n",
    "## 4. Sorted List\n",
    "\n",
    "numbers = list(map(int, input(\"Enter a list of numbers: \").split()))\n",
    "is_sorted = True\n",
    "for i in range(len(numbers) - 1):\n",
    "    if numbers[i] > numbers[i + 1]:\n",
    "        is_sorted = False\n",
    "        break\n",
    "if is_sorted:\n",
    "    print(\"The list is sorted in ascending order.\")\n",
    "else:\n",
    "    print(\"The list is not sorted in ascending order.\")\n",
    "\n",
    "\n",
    "## 5. Uppercase and Lowercase Letters\n",
    "\n",
    "s = input(\"Enter a string: \")\n",
    "uppercase_count = 0\n",
    "lowercase_count = 0\n",
    "for c in s:\n",
    "    if c.isupper():\n",
    "        uppercase_count += 1\n",
    "    elif c.islower():\n",
    "        lowercase_count += 1\n",
    "print(f\"Uppercase letters: {uppercase_count}\")\n",
    "print(f\"Lowercase letters: {lowercase_count}\")\n",
    "\n",
    "\n",
    "## 6. Difference of Two Lists\n",
    "\n",
    "list1 = list(map(int, input(\"Enter the first list of numbers: \").split()))\n",
    "list2 = list(map(int, input(\"Enter the second list of numbers: \").split()))\n",
    "diff = []\n",
    "for x in list1:\n",
    "    if x not in list2:\n",
    "        diff.append(x)\n",
    "print(\"Difference of the two lists:\", diff)\n",
    "\n",
    "\n",
    "## 7. Smallest Positive Integer\n",
    "\n",
    "numbers = list(map(int, input(\"Enter a list of numbers: \").split()))\n",
    "i = 1\n",
    "while True:\n",
    "    if i not in numbers:\n",
    "        print(\"Smallest positive integer not in the list:\", i)\n",
    "        break\n",
    "    i += 1\n",
    "\n",
    "\n",
    "## 8. Words with Vowels\n",
    "\n",
    "s = input(\"Enter a string: \").lower()\n",
    "vowels = \"aeiou\"\n",
    "words = s.split()\n",
    "count = 0\n",
    "for word in words:\n",
    "    if any(c in vowels for c in word):\n",
    "        count += 1\n",
    "print(\"Number of words with vowels:\", count)\n",
    "\n",
    "\n",
    "## 9. Perfect Squares\n",
    "\n",
    "numbers = list(map(int, input(\"Enter a list of numbers: \").split()))\n",
    "squares = []\n",
    "for x in numbers:\n",
    "    if x**0.5 == int(x**0.5):\n",
    "        squares.append(x)\n",
    "print(\"Perfect squares:\", squares)\n",
    "\n",
    "\n",
    "## 10. Word Frequency\n",
    "\n",
    "s = input(\"Enter a string: \").lower()\n",
    "words = s.split()\n",
    "freq = {}\n",
    "for word in words:\n",
    "    if word in freq:\n",
    "        freq[word] += 1\n",
    "    else:\n",
    "        freq[word] = 1\n",
    "print(\"Word frequency:\")\n",
    "for word, count in freq.items():\n",
    "    print(f\"{word}: {count}\")\n",
    "\n",
    "\n",
    "## 11. Uppercase Strings\n",
    "\n",
    "strings = input(\"Enter a list of strings: \").split()\n",
    "uppercase = []\n",
    "for s in strings:\n",
    "    if s.isupper():\n",
    "        uppercase.append(s)\n",
    "print(\"Uppercase strings:\", uppercase)\n",
    "\n",
    "\n",
    "## 12. Product of All Other Numbers\n",
    "\n",
    "numbers = list(map(int, input(\"Enter a list of numbers: \").split()))\n",
    "product = []\n",
    "for i in range(len(numbers)):\n",
    "    prod = 1\n",
    "    for j in range(len(numbers)):\n",
    "        if i != j:\n",
    "            prod *= numbers[j]\n",
    "    product.append(prod)\n",
    "print(\"Product\n",
    "\n",
    "[12:18 am, 2/3/2025] Meta AI: Here are the Python programs that solve each of the problems using if statements:\n",
    "\n",
    "## 1. Prime Number Sequence\n",
    "\n",
    "numbers = list(map(int, input(\"Enter a list of numbers: \").split()))\n",
    "is_prime_sequence = True\n",
    "for num in numbers:\n",
    "    if num < 2:\n",
    "        is_prime_sequence = False\n",
    "        break\n",
    "    for i in range(2, int(num**0.5) + 1):\n",
    "        if num % i == 0:\n",
    "            is_prime_sequence = False\n",
    "            break\n",
    "if is_prime_sequence:\n",
    "    print(\"The list is a prime number sequence.\")\n",
    "else:\n",
    "    print(\"The list is not a prime number sequence.\")\n",
    "\n",
    "\n",
    "## 2. Same Length Strings\n",
    "\n",
    "strings = input(\"Enter a list of strings: \").split()\n",
    "length = len(strings[0])\n",
    "is_same_length = True\n",
    "for s in strings:\n",
    "    if len(s) != length:\n",
    "        is_same_length = False\n",
    "        break\n",
    "if is_same_length:\n",
    "    print(\"All strings are of the same length.\")\n",
    "else:\n",
    "    print(\"Not all strings are of the same length.\")\n",
    "\n",
    "\n",
    "## 3. Pangram\n",
    "\n",
    "s = input(\"Enter a string: \").lower()\n",
    "is_pangram = True\n",
    "alphabet = \"abcdefghijklmnopqrstuvwxyz\"\n",
    "for char in alphabet:\n",
    "    if char not in s:\n",
    "        is_pangram = False\n",
    "        break\n",
    "if is_pangram:\n",
    "    print(\"The string is a pangram.\")\n",
    "else:\n",
    "    print(\"The string is not a pangram.\")\n",
    "\n",
    "\n",
    "## 4. Sorted List\n",
    "\n",
    "numbers = list(map(int, input(\"Enter a list of numbers: \").split()))\n",
    "is_sorted = True\n",
    "for i in range(len(numbers) - 1):\n",
    "    if numbers[i] > numbers[i + 1]:\n",
    "        is_sorted = False\n",
    "        break\n",
    "if is_sorted:\n",
    "    print(\"The list is sorted in ascending order.\")\n",
    "else:\n",
    "    print(\"The list is not sorted in ascending order.\")\n",
    "\n",
    "\n",
    "## 5. Uppercase and Lowercase Letters\n",
    "\n",
    "s = input(\"Enter a string: \")\n",
    "uppercase_count = 0\n",
    "lowercase_count = 0\n",
    "for c in s:\n",
    "    if c.isupper():\n",
    "        uppercase_count += 1\n",
    "    elif c.islower():\n",
    "        lowercase_count += 1\n",
    "print(f\"Uppercase letters: {uppercase_count}\")\n",
    "print(f\"Lowercase letters: {lowercase_count}\")\n",
    "\n",
    "\n",
    "## 6. Difference of Two Lists\n",
    "\n",
    "list1 = list(map(int, input(\"Enter the first list of numbers: \").split()))\n",
    "list2 = list(map(int, input(\"Enter the second list of numbers: \").split()))\n",
    "diff = []\n",
    "for x in list1:\n",
    "    if x not in list2:\n",
    "        diff.append(x)\n",
    "print(\"Difference of the two lists:\", diff)\n",
    "\n",
    "\n",
    "## 7. Smallest Positive Integer\n",
    "\n",
    "numbers = list(map(int, input(\"Enter a list of numbers: \").split()))\n",
    "i = 1\n",
    "while True:\n",
    "    if i not in numbers:\n",
    "        print(\"Smallest positive integer not in the list:\", i)\n",
    "        break\n",
    "    i += 1\n",
    "\n",
    "\n",
    "## 8. Words with Vowels\n",
    "\n",
    "s = input(\"Enter a string: \").lower()\n",
    "vowels = \"aeiou\"\n",
    "words = s.split()\n",
    "count = 0\n",
    "for word in words:\n",
    "    if any(c in vowels for c in word):\n",
    "        count += 1\n",
    "print(\"Number of words with vowels:\", count)\n",
    "\n",
    "\n",
    "## 9. Perfect Squares\n",
    "\n",
    "numbers = list(map(int, input(\"Enter a list of numbers: \").split()))\n",
    "squares = []\n",
    "for x in numbers:\n",
    "    if x**0.5 == int(x**0.5):\n",
    "        squares.append(x)\n",
    "print(\"Perfect squares:\", squares)\n",
    "\n",
    "\n",
    "## 10. Word Frequency\n",
    "\n",
    "s = input(\"Enter a string: \").lower()\n",
    "words = s.split()\n",
    "freq = {}\n",
    "for word in words:\n",
    "    if word in freq:\n",
    "        freq[word] += 1\n",
    "    else:\n",
    "        freq[word] = 1\n",
    "print(\"Word frequency:\")\n",
    "for word, count in freq.items():\n",
    "    print(f\"{word}: {count}\")\n",
    "\n",
    "\n",
    "## 11. Uppercase Strings\n",
    "\n",
    "strings = input(\"Enter a list of strings: \").split()\n",
    "uppercase = []\n",
    "for s in strings:\n",
    "    if s.isupper():\n",
    "        uppercase.append(s)\n",
    "print(\"Uppercase strings:\", uppercase)\n",
    "\n",
    "\n",
    "## 12. Product of All Other Numbers\n",
    "\n",
    "numbers = list(map(int, input(\"Enter a list of numbers: \").split()))\n",
    "product = []\n",
    "for i in range(len(numbers)):\n",
    "    prod = 1\n",
    "    for j in range(len(numbers)):\n",
    "        if i != j:\n",
    "            prod *= numbers[j]\n",
    "    product.append(prod)\n",
    "print(\"Product\n",
    "\n",
    "[12:19 am, 2/3/2025] Meta AI: Here are the Python programs that solve each of the problems using if statements:\n",
    "\n",
    "## 1. Prime Number Sequence\n",
    "\n",
    "numbers = list(map(int, input(\"Enter a list of numbers: \").split()))\n",
    "is_prime_sequence = True\n",
    "for num in numbers:\n",
    "    if num < 2:\n",
    "        is_prime_sequence = False\n",
    "        break\n",
    "    for i in range(2, int(num**0.5) + 1):\n",
    "        if num % i == 0:\n",
    "            is_prime_sequence = False\n",
    "            break\n",
    "if is_prime_sequence:\n",
    "    print(\"The list is a prime number sequence.\")\n",
    "else:\n",
    "    print(\"The list is not a prime number sequence.\")\n",
    "\n",
    "\n",
    "## 2. Same Length Strings\n",
    "\n",
    "strings = input(\"Enter a list of strings: \").split()\n",
    "length = len(strings[0])\n",
    "is_same_length = True\n",
    "for s in strings:\n",
    "    if len(s) != length:\n",
    "        is_same_length = False\n",
    "        break\n",
    "if is_same_length:\n",
    "    print(\"All strings are of the same length.\")\n",
    "else:\n",
    "    print(\"Not all strings are of the same length.\")\n",
    "\n",
    "\n",
    "## 3. Pangram\n",
    "\n",
    "s = input(\"Enter a string: \").lower()\n",
    "is_pangram = True\n",
    "alphabet = \"abcdefghijklmnopqrstuvwxyz\"\n",
    "for char in alphabet:\n",
    "    if char not in s:\n",
    "        is_pangram = False\n",
    "        break\n",
    "if is_pangram:\n",
    "    print(\"The string is a pangram.\")\n",
    "else:\n",
    "    print(\"The string is not a pangram.\")\n",
    "\n",
    "\n",
    "## 4. Sorted List\n",
    "\n",
    "numbers = list(map(int, input(\"Enter a list of numbers: \").split()))\n",
    "is_sorted = True\n",
    "for i in range(len(numbers) - 1):\n",
    "    if numbers[i] >"
   ]
  }
 ],
 "metadata": {
  "kernelspec": {
   "display_name": "Python 3 (ipykernel)",
   "language": "python",
   "name": "python3"
  },
  "language_info": {
   "codemirror_mode": {
    "name": "ipython",
    "version": 3
   },
   "file_extension": ".py",
   "mimetype": "text/x-python",
   "name": "python",
   "nbconvert_exporter": "python",
   "pygments_lexer": "ipython3",
   "version": "3.9.13"
  }
 },
 "nbformat": 4,
 "nbformat_minor": 5
}
