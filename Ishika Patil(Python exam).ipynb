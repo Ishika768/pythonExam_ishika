{
 "cells": [
  {
   "cell_type": "code",
   "execution_count": 10,
   "id": "b419e0af-bc14-49ab-8bf9-9f814dfb2cd9",
   "metadata": {},
   "outputs": [
    {
     "ename": "SyntaxError",
     "evalue": "invalid syntax (3915062368.py, line 1)",
     "output_type": "error",
     "traceback": [
      "\u001b[1;36m  Cell \u001b[1;32mIn[10], line 1\u001b[1;36m\u001b[0m\n\u001b[1;33m    def \"checking_panagram\":\u001b[0m\n\u001b[1;37m        ^\u001b[0m\n\u001b[1;31mSyntaxError\u001b[0m\u001b[1;31m:\u001b[0m invalid syntax\n"
     ]
    }
   ],
   "source": [
    "def str:\n",
    "str=(\"The quick brown Fox Jumps over the lazy doga\")\n",
    "    \n",
    "\n",
    "   \n",
    "print(\"Enter the values of the word string\")\n"
   ]
  },
  {
   "cell_type": "code",
   "execution_count": 19,
   "id": "eec093d7-9cab-4eb5-b27b-31f836cf01e3",
   "metadata": {},
   "outputs": [
    {
     "ename": "SyntaxError",
     "evalue": "invalid syntax (517292016.py, line 8)",
     "output_type": "error",
     "traceback": [
      "\u001b[1;36m  Cell \u001b[1;32mIn[19], line 8\u001b[1;36m\u001b[0m\n\u001b[1;33m    \"quantity\", quantity}\u001b[0m\n\u001b[1;37m    ^\u001b[0m\n\u001b[1;31mSyntaxError\u001b[0m\u001b[1;31m:\u001b[0m invalid syntax\n"
     ]
    }
   ],
   "source": [
    "def inventory_items():\n",
    "    product_name=()\n",
    "    category=()\n",
    "    uantity=()\n",
    "class inventory_data:\n",
    "    dict1={\"product name\", product_name,\n",
    "       \"category\", category \n",
    "       \"quantity\", quantity}\n",
    "    read_file=dict1:\n",
    "    print(\"product name\",type())\n",
    "    print(\"category\", type())\n",
    "    print(\"quantity\", type())\n",
    "    \n",
    "class Categories:\n",
    "    dict2={\"Electronics\", type(electronic)}\n",
    "    \n",
    "class read_inventory_data:\n",
    "    \n",
    "              \n",
    "class validate_product:\n",
    "    \n",
    "class calculate_total_sales:\n",
    "\n",
    "class generate_report:\n",
    "\n"
   ]
  },
  {
   "cell_type": "code",
   "execution_count": 24,
   "id": "8db5431c-19bc-41ff-99ee-86b8bf81e3dc",
   "metadata": {},
   "outputs": [
    {
     "name": "stdout",
     "output_type": "stream",
     "text": [
      "dict <class 'set'>\n",
      "dict <class 'set'>\n",
      "dict <class 'set'>\n"
     ]
    }
   ],
   "source": [
    "product_name=()\n",
    "category=()\n",
    "quantity=()\n",
    "\n",
    "dict={\"Product name\",product_name}\n",
    "print(\"dict\", type(dict))\n",
    "dict={\"category\", category}\n",
    "print(\"dict\", type(dict))\n",
    "dict={\"Quantity\", quantity}\n",
    "print(\"dict\", type(dict))"
   ]
  },
  {
   "cell_type": "code",
   "execution_count": 26,
   "id": "ff6f4974-833b-4513-8170-98492b488432",
   "metadata": {},
   "outputs": [
    {
     "ename": "NameError",
     "evalue": "name 'dict1' is not defined",
     "output_type": "error",
     "traceback": [
      "\u001b[1;31m---------------------------------------------------------------------------\u001b[0m",
      "\u001b[1;31mNameError\u001b[0m                                 Traceback (most recent call last)",
      "Cell \u001b[1;32mIn[26], line 1\u001b[0m\n\u001b[1;32m----> 1\u001b[0m \u001b[38;5;28mprint\u001b[39m(\u001b[38;5;28mmap\u001b[39m(\u001b[38;5;28minput\u001b[39m(\u001b[38;5;124m\"\u001b[39m\u001b[38;5;124mEnter the number of data given above\u001b[39m\u001b[38;5;124m\"\u001b[39m, \u001b[43mdict1\u001b[49m)))\n",
      "\u001b[1;31mNameError\u001b[0m: name 'dict1' is not defined"
     ]
    }
   ],
   "source": [
    "dic1=map(\"Enter all above values\")"
   ]
  },
  {
   "cell_type": "code",
   "execution_count": null,
   "id": "20ae33c8-5925-4e70-abcc-8b8763dc6622",
   "metadata": {},
   "outputs": [],
   "source": []
  }
 ],
 "metadata": {
  "kernelspec": {
   "display_name": "Python 3 (ipykernel)",
   "language": "python",
   "name": "python3"
  },
  "language_info": {
   "codemirror_mode": {
    "name": "ipython",
    "version": 3
   },
   "file_extension": ".py",
   "mimetype": "text/x-python",
   "name": "python",
   "nbconvert_exporter": "python",
   "pygments_lexer": "ipython3",
   "version": "3.13.2"
  }
 },
 "nbformat": 4,
 "nbformat_minor": 5
}
